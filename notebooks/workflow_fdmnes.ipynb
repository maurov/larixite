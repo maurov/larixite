{
 "cells": [
  {
   "cell_type": "markdown",
   "metadata": {},
   "source": [
    "# FDMNES XAS simulation workflow with Larixite\n",
    "This notebook shows an example workflow for FDMNES XAS simulation using Larixite.\n",
    "\n",
    "- Author: Mauro Rovezzi\n",
    "- Contact: mauro.rovezzi@esrf.fr\n",
    "- Status: in progress\n",
    "- Last update: 2025-03-28"
   ]
  },
  {
   "cell_type": "markdown",
   "metadata": {},
   "source": [
    "First import the necessary modules and set some variables"
   ]
  },
  {
   "cell_type": "code",
   "execution_count": null,
   "metadata": {},
   "outputs": [],
   "source": [
    "%reload_ext autoreload\n",
    "%autoreload 2\n",
    "\n",
    "from pathlib import Path\n",
    "import numpy as np\n",
    "import crystal_toolkit\n",
    "import warnings\n",
    "from larixite.struct import get_structs_from_dir\n",
    "from larixite.fdmnes import FdmnesXasInput\n",
    "from larixite.fdmnes import logger\n",
    "\n",
    "logger.setLevel(\"INFO\")  #: adjust this level if you want to have more or less information: \"DEBUG\", \"INFO\", \"WARNING\", \"ERROR\", \"CRITICAL\"\n",
    "warnings.simplefilter('always', UserWarning)\n",
    "\n",
    "curdir = Path().cwd()\n",
    "basedir = curdir.parent\n",
    "testdir = basedir / \"tests\"\n",
    "structsdir = testdir / \"structs\"\n",
    "\n",
    "abs = \"Zn\"\n",
    "\n",
    "fdmnes_executable = \"/home/mauro/local/fdmnes_Linux_2024_11_14/fdmnes_Linux/fdmnes_linux64\"  #: path to fdmnes executable (TODO: set your own path)"
   ]
  },
  {
   "cell_type": "markdown",
   "metadata": {},
   "source": [
    "Get a list of XasStructure objects from a directory containing structural files, based on the absorbing element specified before."
   ]
  },
  {
   "cell_type": "code",
   "execution_count": null,
   "metadata": {},
   "outputs": [],
   "source": [
    "structs = get_structs_from_dir(structsdir, abs, globstr=f\"*{abs}*\")"
   ]
  },
  {
   "cell_type": "markdown",
   "metadata": {},
   "source": [
    "select one structure and print some information about it"
   ]
  },
  {
   "cell_type": "code",
   "execution_count": null,
   "metadata": {},
   "outputs": [],
   "source": [
    "sg = structs[0]\n",
    "sg.show_unique_sites()"
   ]
  },
  {
   "cell_type": "markdown",
   "metadata": {},
   "source": [
    "the structure can be visualized with the crystal toolkit"
   ]
  },
  {
   "cell_type": "code",
   "execution_count": null,
   "metadata": {},
   "outputs": [],
   "source": [
    "sg.struct"
   ]
  },
  {
   "cell_type": "markdown",
   "metadata": {},
   "source": [
    "The absorber site is set by default to the first site with the absorbing element, but can be changed as follows (in this example there is only one absorbing site)"
   ]
  },
  {
   "cell_type": "code",
   "execution_count": null,
   "metadata": {},
   "outputs": [],
   "source": [
    "sg.absorber_idx = 0"
   ]
  },
  {
   "cell_type": "markdown",
   "metadata": {},
   "source": [
    "then generate an FDMNES input file FdmnesXasInput object and show it"
   ]
  },
  {
   "cell_type": "code",
   "execution_count": null,
   "metadata": {},
   "outputs": [],
   "source": [
    "f = FdmnesXasInput(sg, absorber=abs, struct_type=\"crystal\", radius=5)\n",
    "text = f.get_input()\n",
    "print(text)"
   ]
  },
  {
   "cell_type": "code",
   "execution_count": null,
   "metadata": {},
   "outputs": [],
   "source": [
    "outdir = f.write_input()"
   ]
  },
  {
   "cell_type": "code",
   "execution_count": null,
   "metadata": {},
   "outputs": [],
   "source": [
    "! cd {outdir.as_posix()} && {fdmnes_executable}"
   ]
  },
  {
   "cell_type": "markdown",
   "metadata": {},
   "source": [
    "The following steps will be showed soon:\n",
    "\n",
    "- load the FDMNES output files\n",
    "- plot the XAS spectrum\n",
    "- compare the simulated spectrum with experimental data and adjust the convolution parameters\n",
    "- run multiple jobs for convergence studies"
   ]
  },
  {
   "cell_type": "markdown",
   "metadata": {},
   "source": []
  }
 ],
 "metadata": {
  "kernelspec": {
   "display_name": "sloth2411",
   "language": "python",
   "name": "python3"
  },
  "language_info": {
   "codemirror_mode": {
    "name": "ipython",
    "version": 3
   },
   "file_extension": ".py",
   "mimetype": "text/x-python",
   "name": "python",
   "nbconvert_exporter": "python",
   "pygments_lexer": "ipython3",
   "version": "3.12.8"
  }
 },
 "nbformat": 4,
 "nbformat_minor": 2
}
